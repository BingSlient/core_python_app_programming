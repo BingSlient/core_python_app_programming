{
 "cells": [
  {
   "cell_type": "markdown",
   "metadata": {},
   "source": [
    "# Exercises for regular expressions in python"
   ]
  },
  {
   "cell_type": "code",
   "execution_count": 1,
   "metadata": {},
   "outputs": [],
   "source": [
    "import re"
   ]
  },
  {
   "cell_type": "markdown",
   "metadata": {},
   "source": [
    "## usage of `re` function `finditer` and `findall`, notice the differences"
   ]
  },
  {
   "cell_type": "code",
   "execution_count": 118,
   "metadata": {},
   "outputs": [
    {
     "name": "stdout",
     "output_type": "stream",
     "text": [
      "seafood@hotmal.com\n",
      "foo@www.baidu.com\n"
     ]
    }
   ],
   "source": [
    "p = '(\\w+@(\\w+\\.)?\\w+\\.com)' \n",
    "m = re.finditer(p, 'seafood@hotmal.com foo@www.baidu.com abc@learning.co')\n",
    "if m is not None:\n",
    "    for item in m:\n",
    "        print(item.group(1))"
   ]
  },
  {
   "cell_type": "code",
   "execution_count": 117,
   "metadata": {},
   "outputs": [
    {
     "name": "stdout",
     "output_type": "stream",
     "text": [
      "['seafood@hotmal.com', 'foo@www.baidu.com']\n"
     ]
    }
   ],
   "source": [
    "p = '(\\w+@(?:\\w+\\.)?\\w+\\.com)' \n",
    "m = re.findall(p, 'seafood@hotmal.com foo@www.baidu.com abc@learning.co')\n",
    "if m is not None:\n",
    "    print(m)"
   ]
  },
  {
   "cell_type": "markdown",
   "metadata": {},
   "source": [
    "## usage of `re` function `sub()` \n",
    "- use raw string by adding `r` before a string\n",
    "- use `\\N` to resue the subgrups defined by `()`\n",
    "\n",
    "** The reason for using raw string is that the ASCII char sometimes can conflicts with regrexes special char** "
   ]
  },
  {
   "cell_type": "code",
   "execution_count": 194,
   "metadata": {},
   "outputs": [
    {
     "name": "stdout",
     "output_type": "stream",
     "text": [
      "999/8/17\n"
     ]
    }
   ],
   "source": [
    "m = re.sub(r'(\\d{1,2})/(\\d{1,2})/(\\d{2,4})', r'\\3/\\2/\\1', '17/8/999')\n",
    "print(m)"
   ]
  },
  {
   "cell_type": "markdown",
   "metadata": {},
   "source": [
    "## Usage of `re` function `split()`\n",
    "- similar to the string method str.split() but more powerful"
   ]
  },
  {
   "cell_type": "code",
   "execution_count": 196,
   "metadata": {},
   "outputs": [
    {
     "data": {
      "text/plain": [
       "['I', \"don't\", \"want't\", 'a', 'fight,', 'I', 'want', 'to', 'talk,', 'ok?']"
      ]
     },
     "execution_count": 196,
     "metadata": {},
     "output_type": "execute_result"
    }
   ],
   "source": [
    "re.split(' ', \"I don't want't a fight, I want to talk, ok?\")"
   ]
  },
  {
   "cell_type": "markdown",
   "metadata": {},
   "source": [
    "if we have data of adresses and ZIP codes, we can use split() function to split the exact data we want"
   ]
  },
  {
   "cell_type": "code",
   "execution_count": 197,
   "metadata": {},
   "outputs": [],
   "source": [
    "data = (\n",
    "    'Mountain View, CA 94040',\n",
    "    'Sunnyvale, CA',\n",
    "    'Los Altos, 94023',\n",
    "    'Cupertino 95014',\n",
    "    'Palo Alto CA',\n",
    ")"
   ]
  },
  {
   "cell_type": "code",
   "execution_count": 206,
   "metadata": {},
   "outputs": [],
   "source": [
    "real_data = list()\n",
    "for item in data:\n",
    "    real_data.append(re.split(', |(?= (?:\\d{5})|[A-Z]{2}) ', item))"
   ]
  },
  {
   "cell_type": "code",
   "execution_count": 207,
   "metadata": {},
   "outputs": [
    {
     "name": "stdout",
     "output_type": "stream",
     "text": [
      "[['Mountain View', 'CA', '94040'], ['Sunnyvale', 'CA'], ['Los Altos', '94023'], ['Cupertino', '95014'], ['Palo Alto CA']]\n"
     ]
    }
   ],
   "source": [
    "print(real_data)"
   ]
  },
  {
   "cell_type": "markdown",
   "metadata": {},
   "source": [
    "## usage of Extension Natation`(?...)`\n",
    "### usage of `re` function flags with `(?imxsuL)`\n",
    "- use `(?i)` to use flag `re.I/re.IGNORECASE`\n",
    "- use `(?m)` to use flag `re.M/re.MULTILINE`\n",
    "- use `(?x)` to use flag `re.X/re.VERBOSE` \n",
    "- use `(?s)` to use flag `re.S/re.DOTALL`, the special char `.` normally matches single char except `\\n`, using the flag means matching `\\n` as well\n",
    "- use `(?L)` to use flag `re.L/re.LOCALE`, Matches via \\w, \\W, \\b, \\B, \\s, \\S depends on locale"
   ]
  },
  {
   "cell_type": "code",
   "execution_count": 120,
   "metadata": {},
   "outputs": [
    {
     "data": {
      "text/plain": [
       "['The', 'through', 'there', 'the']"
      ]
     },
     "execution_count": 120,
     "metadata": {},
     "output_type": "execute_result"
    }
   ],
   "source": [
    "re.findall(r'(?i)th\\w+', 'The fastest way to get through there is the best way')"
   ]
  },
  {
   "cell_type": "code",
   "execution_count": 121,
   "metadata": {},
   "outputs": [
    {
     "data": {
      "text/plain": [
       "['test@c.com', 'feaset@d.com']"
      ]
     },
     "execution_count": 121,
     "metadata": {},
     "output_type": "execute_result"
    }
   ],
   "source": [
    "re.findall('(?m)^\\s+((?![a-c])(?:\\w+)@(?:\\w+\\.\\w+))',\n",
    "            \"\"\"\n",
    "                a@b.com\n",
    "                b@c.com\n",
    "                test@c.com\n",
    "                feaset@d.com\n",
    "                come@b.com\n",
    "            \"\"\")"
   ]
  },
  {
   "cell_type": "code",
   "execution_count": 122,
   "metadata": {},
   "outputs": [
    {
     "data": {
      "text/plain": [
       "['test@c.com', 'feaset@d.com']"
      ]
     },
     "execution_count": 122,
     "metadata": {},
     "output_type": "execute_result"
    }
   ],
   "source": [
    "re.findall(\"\"\"(?mx)^\\s+(\n",
    "            #filter emails start with char a-c\n",
    "            (?![a-c])\n",
    "            #include normal emails but not store in the subgroups\n",
    "            (?:\\w+)@(?:\\w+\\.\\w+))\"\"\",\n",
    "            \"\"\"\n",
    "                a@b.com\n",
    "                b@c.com\n",
    "                test@c.com\n",
    "                feaset@d.com\n",
    "                come@b.com\n",
    "            \"\"\")"
   ]
  },
  {
   "cell_type": "code",
   "execution_count": 123,
   "metadata": {},
   "outputs": [
    {
     "data": {
      "text/plain": [
       "['sales@aw.com', 'admin@aw.com']"
      ]
     },
     "execution_count": 123,
     "metadata": {},
     "output_type": "execute_result"
    }
   ],
   "source": [
    "['%s@aw.com' % e.group(1) for e in re.finditer(r'(?m)^\\s+(?!noreply|postmaster)(\\w+)','''\n",
    "    sales@a.com\n",
    "    postmaster@a.com\n",
    "    noreply@a.com\n",
    "    admin@a.com\n",
    "''')]"
   ]
  },
  {
   "cell_type": "markdown",
   "metadata": {},
   "source": [
    "### usage of `(?:...)`\n",
    "- this notation can group parts of a regex \n",
    "- besides, it doesn't save the matches subgroups which often is rather useful when we don't want to save subgroups, e.g.`findall` function with complex pattern using subgroups will store all the subgroups while most of the time all we want is the whole pattern but not the subgroups"
   ]
  },
  {
   "cell_type": "code",
   "execution_count": 124,
   "metadata": {},
   "outputs": [
    {
     "data": {
      "text/plain": [
       "[('www.', 'baidu.com'), ('www.', 'yahoo.com')]"
      ]
     },
     "execution_count": 124,
     "metadata": {},
     "output_type": "execute_result"
    }
   ],
   "source": [
    "re.findall(r'http://(\\w+\\.)*(\\w+\\.com)', 'http://www.baidu.com http://www.yahoo.com http:www.leicom.com')"
   ]
  },
  {
   "cell_type": "markdown",
   "metadata": {},
   "source": [
    "we don't want the subgroups `(\\w+\\.)` matching results storing in the result list, then we use `(?:...)` instead "
   ]
  },
  {
   "cell_type": "code",
   "execution_count": 125,
   "metadata": {},
   "outputs": [
    {
     "data": {
      "text/plain": [
       "['baidu.com', 'yahoo.com']"
      ]
     },
     "execution_count": 125,
     "metadata": {},
     "output_type": "execute_result"
    }
   ],
   "source": [
    "re.findall(r'http://(?:\\w+\\.)*(\\w+\\.com)', 'http://www.baidu.com http://www.yahoo.com http:www.leicom.com')"
   ]
  },
  {
   "cell_type": "markdown",
   "metadata": {},
   "source": [
    "if we just want the whole url address"
   ]
  },
  {
   "cell_type": "code",
   "execution_count": 136,
   "metadata": {},
   "outputs": [
    {
     "data": {
      "text/plain": [
       "['http://www.baidu.com', 'http://www.yahoo.com']"
      ]
     },
     "execution_count": 136,
     "metadata": {},
     "output_type": "execute_result"
    }
   ],
   "source": [
    "re.findall(r'http://(?:\\w+\\.)*\\w+\\.com', 'http://www.baidu.com http://www.yahoo.com http:www.leicom.com')"
   ]
  },
  {
   "cell_type": "markdown",
   "metadata": {},
   "source": [
    "### usage of `(?P<name>)` or `(?P=name)`\n",
    "- the `<name>` is the identifier of the subgroups which can be retrieved using `\\g<name>`"
   ]
  },
  {
   "cell_type": "code",
   "execution_count": 131,
   "metadata": {},
   "outputs": [
    {
     "data": {
      "text/plain": [
       "'2018/8/17'"
      ]
     },
     "execution_count": 131,
     "metadata": {},
     "output_type": "execute_result"
    }
   ],
   "source": [
    "re.sub(r'(?P<day>\\d{1,2})/(?P<month>\\d{1,2})/(?P<year>\\d{2,4})', '\\g<year>/\\g<month>/\\g<day>', \\\n",
    "      '17/8/2018')"
   ]
  },
  {
   "cell_type": "markdown",
   "metadata": {},
   "source": [
    "### usage of `(?=)` and `(?!)`\n",
    "- `(?=)` lookahead in the target string postively\n",
    "- `(?!)` lookahead in the target string negatively\n",
    "- both notations don't store the matching results"
   ]
  },
  {
   "cell_type": "markdown",
   "metadata": {},
   "source": [
    "find all persons whose last name is West"
   ]
  },
  {
   "cell_type": "code",
   "execution_count": 139,
   "metadata": {},
   "outputs": [
    {
     "data": {
      "text/plain": [
       "['Jaylen']"
      ]
     },
     "execution_count": 139,
     "metadata": {},
     "output_type": "execute_result"
    }
   ],
   "source": [
    "re.findall(r'\\w+(?= West)', \n",
    "           '''\n",
    "           Jaylen West\n",
    "           Bob Blue\n",
    "           Cat Meat\n",
    "           ''')"
   ]
  },
  {
   "cell_type": "markdown",
   "metadata": {},
   "source": [
    "find all persons whose last name is not West"
   ]
  },
  {
   "cell_type": "code",
   "execution_count": 173,
   "metadata": {},
   "outputs": [
    {
     "data": {
      "text/plain": [
       "['Bob', 'Cat']"
      ]
     },
     "execution_count": 173,
     "metadata": {},
     "output_type": "execute_result"
    }
   ],
   "source": [
    "re.findall(r'(?m)(\\w+) (?!West)', \n",
    "           '''\n",
    "           Jaylen West\n",
    "           Bob Blue\n",
    "           Cat Meat\n",
    "           ''')"
   ]
  },
  {
   "cell_type": "code",
   "execution_count": 192,
   "metadata": {},
   "outputs": [
    {
     "data": {
      "text/plain": [
       "'x'"
      ]
     },
     "execution_count": 192,
     "metadata": {},
     "output_type": "execute_result"
    }
   ],
   "source": [
    "m = re.match(r'(?:(x))(?(1)y|x)', 'xy')\n",
    "m.group(1)"
   ]
  },
  {
   "cell_type": "code",
   "execution_count": 193,
   "metadata": {},
   "outputs": [
    {
     "data": {
      "text/plain": [
       "<_sre.SRE_Match object; span=(0, 2), match='xx'>"
      ]
     },
     "execution_count": 193,
     "metadata": {},
     "output_type": "execute_result"
    }
   ],
   "source": [
    "re.search(r'(?:(x)|y)(?(1)x)', 'xx')"
   ]
  },
  {
   "cell_type": "markdown",
   "metadata": {},
   "source": [
    "## An Example Using Regular Experssions\n",
    "In this example, we will process the tasklist.exe output in Windows, the output can be obtained through\n",
    "> tasklist.exe > tasklist"
   ]
  },
  {
   "cell_type": "code",
   "execution_count": 1,
   "metadata": {},
   "outputs": [],
   "source": [
    "import os\n",
    "import re"
   ]
  },
  {
   "cell_type": "markdown",
   "metadata": {},
   "source": [
    "we can use `os.open()` to open the file tasklist generated by tasklist.exe, but we can also just use `os.popen()` to use tasklist.exe as the input directly.\n",
    "> **the `/nh` options suppresses the column headers**"
   ]
  },
  {
   "cell_type": "code",
   "execution_count": 10,
   "metadata": {},
   "outputs": [
    {
     "name": "stdout",
     "output_type": "stream",
     "text": [
      "[]\n",
      "[('System Idle Process', '0', '8 K')]\n",
      "[('System', '4', '13,712 K')]\n",
      "[('Registry', '120', '6,916 K')]\n",
      "[('smss.exe', '444', '912 K')]\n",
      "[('csrss.exe', '624', '3,956 K')]\n",
      "[('wininit.exe', '732', '4,708 K')]\n",
      "[('csrss.exe', '744', '4,428 K')]\n",
      "[('services.exe', '812', '8,668 K')]\n",
      "[('lsass.exe', '832', '15,236 K')]\n",
      "[('svchost.exe', '944', '2,988 K')]\n",
      "[('svchost.exe', '972', '30,372 K')]\n",
      "[('fontdrvhost.exe', '992', '2,496 K')]\n",
      "[('WUDFHost.exe', '1004', '5,104 K')]\n",
      "[('svchost.exe', '584', '15,128 K')]\n",
      "[('winlogon.exe', '552', '6,808 K')]\n",
      "[('svchost.exe', '1052', '6,496 K')]\n",
      "[('fontdrvhost.exe', '1108', '5,968 K')]\n",
      "[('svchost.exe', '1200', '4,896 K')]\n",
      "[('svchost.exe', '1276', '11,788 K')]\n",
      "[('svchost.exe', '1288', '6,676 K')]\n",
      "[('svchost.exe', '1304', '8,724 K')]\n",
      "[('svchost.exe', '1392', '4,924 K')]\n",
      "[('svchost.exe', '1452', '5,624 K')]\n",
      "[('svchost.exe', '1516', '6,480 K')]\n",
      "[('svchost.exe', '1600', '14,632 K')]\n",
      "[('WUDFHost.exe', '1708', '5,840 K')]\n",
      "[('svchost.exe', '1760', '10,680 K')]\n",
      "[('dwm.exe', '1800', '74,520 K')]\n",
      "[('NVDisplay.Container.exe', '1880', '8,276 K')]\n",
      "[('svchost.exe', '1900', '11,044 K')]\n",
      "[('svchost.exe', '1984', '6,832 K')]\n",
      "[('svchost.exe', '2032', '8,472 K')]\n",
      "[('svchost.exe', '2040', '5,832 K')]\n",
      "[('svchost.exe', '724', '9,652 K')]\n",
      "[('svchost.exe', '1076', '4,520 K')]\n",
      "[('svchost.exe', '1504', '7,828 K')]\n",
      "[('Memory Compression', '2228', '492,892 K')]\n",
      "[('svchost.exe', '2256', '6,504 K')]\n",
      "[('svchost.exe', '2324', '7,776 K')]\n",
      "[('igfxCUIService.exe', '2404', '5,724 K')]\n",
      "[('svchost.exe', '2512', '6,084 K')]\n",
      "[('svchost.exe', '2524', '8,960 K')]\n",
      "[('svchost.exe', '2600', '9,760 K')]\n",
      "[('svchost.exe', '2748', '9,848 K')]\n",
      "[('svchost.exe', '2776', '10,576 K')]\n",
      "[('RtkAudioService64.exe', '2836', '5,280 K')]\n",
      "[('svchost.exe', '2932', '16,424 K')]\n",
      "[('svchost.exe', '2968', '7,272 K')]\n",
      "[('svchost.exe', '3040', '5,260 K')]\n",
      "[('svchost.exe', '3052', '9,456 K')]\n",
      "[('svchost.exe', '2128', '5,988 K')]\n",
      "[('svchost.exe', '3152', '9,052 K')]\n",
      "[('svchost.exe', '3212', '11,140 K')]\n",
      "[('AuthenMngService.exe', '3248', '12,032 K')]\n",
      "[('wlanext.exe', '3400', '10,188 K')]\n",
      "[('conhost.exe', '3408', '3,860 K')]\n",
      "[('svchost.exe', '3500', '8,608 K')]\n",
      "[('spoolsv.exe', '3556', '13,976 K')]\n",
      "[('svchost.exe', '3660', '13,296 K')]\n",
      "[('svchost.exe', '3708', '6,284 K')]\n",
      "[('svchost.exe', '3776', '6,996 K')]\n",
      "[('RAVBg64.exe', '3872', '7,612 K')]\n",
      "[('ibtsiva.exe', '3328', '3,196 K')]\n",
      "[('RegSrvc.exe', '2964', '6,420 K')]\n",
      "[('svchost.exe', '3772', '4,712 K')]\n",
      "[('svchost.exe', '4004', '6,588 K')]\n",
      "[('svchost.exe', '4016', '32,908 K')]\n",
      "[('DolbyDAX2API.exe', '4104', '18,960 K')]\n",
      "[('svchost.exe', '4116', '35,932 K')]\n",
      "[('EvtEng.exe', '4124', '9,540 K')]\n",
      "[('MiService.exe', '4132', '30,164 K')]\n",
      "[('svchost.exe', '4140', '3,912 K')]\n",
      "[('svchost.exe', '4148', '3,876 K')]\n",
      "[('svchost.exe', '4160', '5,184 K')]\n",
      "[('svchost.exe', '4172', '5,400 K')]\n",
      "[('nvcontainer.exe', '4180', '14,392 K')]\n",
      "[('NvTelemetryContainer.exe', '4192', '9,128 K')]\n",
      "[('vmnetdhcp.exe', '4200', '3,452 K')]\n",
      "[('QQProtect.exe', '4208', '11,856 K')]\n",
      "[('svchost.exe', '4216', '11,804 K')]\n",
      "[('svchost.exe', '4224', '15,412 K')]\n",
      "[('vmnat.exe', '4232', '4,712 K')]\n",
      "[('SecurityHealthService.exe', '4244', '10,740 K')]\n",
      "[('IntelCpHDCPSvc.exe', '4252', '5,196 K')]\n",
      "[('OfficeClickToRun.exe', '4260', '29,000 K')]\n",
      "[('svchost.exe', '4284', '4,320 K')]\n",
      "[('MsMpEng.exe', '4296', '92,764 K')]\n",
      "[('svchost.exe', '4328', '15,700 K')]\n",
      "[('svchost.exe', '4352', '8,392 K')]\n",
      "[('TeamViewer_Service.exe', '4492', '11,176 K')]\n",
      "[('ZeroConfigService.exe', '4544', '12,076 K')]\n",
      "[('dasHost.exe', '5024', '7,836 K')]\n",
      "[('svchost.exe', '5084', '4,692 K')]\n",
      "[('svchost.exe', '5092', '8,516 K')]\n",
      "[('authd.exe', '5100', '8,248 K')]\n",
      "[('usbarbitrator64.ex', '5108', '7,884 K')]\n",
      "[('svchost.exe', '5300', '8,100 K')]\n",
      "[('IntelCpHeciSvc.exe', '5400', '6,804 K')]\n",
      "[('svchost.exe', '5904', '5,372 K')]\n",
      "[('iNodeMon.exe', '6024', '4,944 K')]\n",
      "[('unsecapp.exe', '6820', '5,460 K')]\n",
      "[('WmiPrvSE.exe', '6920', '11,948 K')]\n",
      "[('svchost.exe', '5256', '6,312 K')]\n",
      "[('svchost.exe', '6632', '7,360 K')]\n",
      "[('NVDisplay.Container.exe', '7812', '21,744 K')]\n",
      "[('nvcontainer.exe', '2488', '18,356 K')]\n",
      "[('NisSrv.exe', '7268', '8,708 K')]\n",
      "[('sihost.exe', '1732', '31,372 K')]\n",
      "[('svchost.exe', '7572', '19,432 K')]\n",
      "[('svchost.exe', '7520', '30,632 K')]\n",
      "[('svchost.exe', '7756', '14,456 K')]\n",
      "[('taskhostw.exe', '7460', '15,176 K')]\n",
      "[('igfxEM.exe', '7880', '9,040 K')]\n",
      "[('svchost.exe', '6736', '6,144 K')]\n",
      "[('ctfmon.exe', '7424', '22,540 K')]\n",
      "[('explorer.exe', '8356', '140,884 K')]\n",
      "[('svchost.exe', '8728', '5,100 K')]\n",
      "[('svchost.exe', '8852', '5,480 K')]\n",
      "[('ChsIME.exe', '9136', '32,064 K')]\n",
      "[('svchost.exe', '9504', '10,200 K')]\n",
      "[('GoogleCrashHandler.exe', '10072', '1,288 K')]\n",
      "[('GoogleCrashHandler64.exe', '10140', '972 K')]\n",
      "[('RuntimeBroker.exe', '10148', '27,212 K')]\n",
      "[('svchost.exe', '10156', '15,708 K')]\n",
      "[('SearchUI.exe', '10224', '86,276 K')]\n",
      "[('RuntimeBroker.exe', '9416', '30,224 K')]\n",
      "[('SettingSyncHost.exe', '10824', '4,648 K')]\n",
      "[('SearchIndexer.exe', '10896', '35,696 K')]\n",
      "[('OfficeHubTaskHost.exe', '11220', '3,536 K')]\n",
      "[('LockApp.exe', '10872', '24,520 K')]\n",
      "[('RemindersServer.exe', '8572', '14,648 K')]\n",
      "[('RuntimeBroker.exe', '11376', '18,952 K')]\n",
      "[('svchost.exe', '11524', '13,472 K')]\n",
      "[('NVIDIA Web Helper.exe', '12068', '1,780 K')]\n",
      "[('conhost.exe', '12076', '1,080 K')]\n",
      "[('RuntimeBroker.exe', '6680', '25,896 K')]\n",
      "[('svchost.exe', '12400', '14,948 K')]\n",
      "[('Video.UI.exe', '12896', '468 K')]\n",
      "[('RuntimeBroker.exe', '12944', '7,848 K')]\n",
      "[('RuntimeBroker.exe', '13676', '14,240 K')]\n",
      "[('RuntimeBroker.exe', '13728', '6,192 K')]\n",
      "[('MSASCuiL.exe', '14068', '6,980 K')]\n",
      "[('RAVBg64.exe', '14212', '8,076 K')]\n",
      "[('RAVBg64.exe', '14284', '7,008 K')]\n",
      "[('DolbyDAX2TrayIcon.exe', '9132', '6,884 K')]\n",
      "[('OneDrive.exe', '9740', '35,892 K')]\n",
      "[('yundetectservice.exe', '14404', '7,860 K')]\n",
      "[('UWSTService.exe', '14580', '5,604 K')]\n",
      "[('svchost.exe', '11280', '18,364 K')]\n",
      "[('ApplicationFrameHost.exe', '3512', '35,768 K')]\n",
      "[('WinStore.App.exe', '4468', '39,992 K')]\n",
      "[('svchost.exe', '2848', '15,472 K')]\n",
      "[('SgrmBroker.exe', '12680', '9,296 K')]\n",
      "[('svchost.exe', '13988', '8,044 K')]\n",
      "[('svchost.exe', '15040', '9,876 K')]\n",
      "[('MicrosoftEdge.exe', '14996', '33,740 K')]\n",
      "[('browser_broker.exe', '11020', '6,860 K')]\n",
      "[('RuntimeBroker.exe', '10548', '11,176 K')]\n",
      "[('MicrosoftEdgeCP.exe', '8824', '13,704 K')]\n",
      "[('MicrosoftEdgeCP.exe', '7408', '27,680 K')]\n",
      "[('MicrosoftEdgeCP.exe', '8968', '14,104 K')]\n",
      "[('MicrosoftEdgeCP.exe', '14964', '14,096 K')]\n",
      "[('WindowsInternal.Composabl', '14056', '26,060 K')]\n",
      "[('RuntimeBroker.exe', '8412', '4,536 K')]\n",
      "[('FileCoAuth.exe', '1624', '10,324 K')]\n",
      "[('Shadowsocks.exe', '10184', '10,688 K')]\n",
      "[('dllhost.exe', '16504', '8,196 K')]\n",
      "[('ss_privoxy.exe', '11244', '6,328 K')]\n",
      "[('svchost.exe', '3728', '6,844 K')]\n",
      "[('svchost.exe', '18096', '6,092 K')]\n",
      "[('svchost.exe', '18180', '10,580 K')]\n",
      "[('svchost.exe', '18208', '5,196 K')]\n",
      "[('svchost.exe', '16016', '9,552 K')]\n",
      "[('WUDFHost.exe', '16192', '6,956 K')]\n",
      "[('svchost.exe', '17144', '4,836 K')]\n",
      "[('ChsIME.exe', '17140', '11,840 K')]\n",
      "[('explorer.exe', '16776', '33,696 K')]\n",
      "[('SystemSettings.exe', '5052', '32,668 K')]\n",
      "[('YoudaoDict.exe', '20876', '46,972 K')]\n",
      "[('YoudaoIE.exe', '20340', '19,940 K')]\n",
      "[('YoudaoDictHelper.exe', '21276', '134,448 K')]\n",
      "[('svchost.exe', '648', '7,212 K')]\n",
      "[('python.exe', '20004', '6,524 K')]\n",
      "[('conhost.exe', '27488', '13,520 K')]\n",
      "[('python.exe', '25936', '33,296 K')]\n",
      "[('ShellExperienceHost.exe', '17340', '98,612 K')]\n",
      "[('SystemSettingsBroker.exe', '29788', '27,072 K')]\n",
      "[('onenoteim.exe', '29740', '61,112 K')]\n",
      "[('RuntimeBroker.exe', '24360', '7,336 K')]\n",
      "[('dllhost.exe', '33256', '14,372 K')]\n",
      "[('Microsoft.Photos.exe', '33384', '10,532 K')]\n",
      "[('RuntimeBroker.exe', '34316', '24,816 K')]\n",
      "[('Xodo_Windows10.exe', '24444', '173,300 K')]\n",
      "[('RuntimeBroker.exe', '32184', '21,524 K')]\n",
      "[('svchost.exe', '31384', '13,944 K')]\n",
      "[('NeteaseMusic.exe', '35092', '185,468 K')]\n",
      "[('RuntimeBroker.exe', '37284', '23,980 K')]\n",
      "[('Windows.Media.BackgroundP', '34080', '58,848 K')]\n",
      "[('audiodg.exe', '24896', '22,888 K')]\n",
      "[('svchost.exe', '19200', '18,596 K')]\n",
      "[('chrome.exe', '39796', '133,048 K')]\n",
      "[('chrome.exe', '39812', '7,388 K')]\n",
      "[('chrome.exe', '39844', '7,896 K')]\n",
      "[('chrome.exe', '38688', '204,824 K')]\n",
      "[('chrome.exe', '29344', '25,252 K')]\n",
      "[('chrome.exe', '32696', '92,104 K')]\n",
      "[('chrome.exe', '35656', '65,088 K')]\n",
      "[('chrome.exe', '38580', '28,600 K')]\n",
      "[('chrome.exe', '27540', '20,864 K')]\n",
      "[('chrome.exe', '20404', '39,984 K')]\n",
      "[('chrome.exe', '38388', '22,304 K')]\n",
      "[('chrome.exe', '33668', '36,764 K')]\n",
      "[('chrome.exe', '30352', '43,528 K')]\n",
      "[('chrome.exe', '40844', '116,688 K')]\n",
      "[('python.exe', '41664', '30,808 K')]\n",
      "[('bash.exe', '38256', '5,072 K')]\n",
      "[('mintty.exe', '41696', '23,032 K')]\n",
      "[('conhost.exe', '40748', '7,320 K')]\n",
      "[('bash.exe', '41232', '7,056 K')]\n",
      "[('chrome.exe', '39768', '71,192 K')]\n",
      "[('chrome.exe', '35852', '37,880 K')]\n",
      "[('chrome.exe', '41552', '88,464 K')]\n",
      "[('chrome.exe', '35124', '100,020 K')]\n",
      "[('chrome.exe', '38728', '22,952 K')]\n",
      "[('WmiPrvSE.exe', '30692', '9,988 K')]\n",
      "[('backgroundTaskHost.exe', '34084', '29,484 K')]\n",
      "[('RuntimeBroker.exe', '41060', '37,668 K')]\n",
      "[('GoogleUpdate.exe', '41716', '8,800 K')]\n",
      "[('cmd.exe', '19348', '2,648 K')]\n",
      "[('tasklist.exe', '40304', '7,688 K')]\n"
     ]
    }
   ],
   "source": [
    "with os.popen('tasklist /nh', 'r') as f:\n",
    "    for eachline in f:\n",
    "        print(re.findall(r'([\\w.]+(?: [\\w.]+)*)\\s\\s+(\\d+) \\w+\\s\\s+\\d+\\s\\s+([\\d,]+ K)',eachline.rstrip()))"
   ]
  },
  {
   "cell_type": "markdown",
   "metadata": {},
   "source": [
    "### Second Example: Data Generator"
   ]
  },
  {
   "cell_type": "code",
   "execution_count": 11,
   "metadata": {},
   "outputs": [],
   "source": [
    "from random import randrange, choice\n",
    "from string import ascii_lowercase as lc\n",
    "from time import ctime"
   ]
  },
  {
   "cell_type": "code",
   "execution_count": 170,
   "metadata": {},
   "outputs": [],
   "source": [
    "tlds = ('com', 'edu', 'net', 'org', 'gov')\n",
    "\n",
    "with open('data', 'a') as f:                 # open file data in append mode\n",
    "    for i in range(randrange(5, 11)):        # choose a random item from range(5, 11)\n",
    "        dtint = randrange(2**32)             # pick date, the maximum value ctime can accept is 2^32\n",
    "        dtstr = ctime(dtint)                 # transfer dint(in seconds) to local time string\n",
    "        llen = randrange(4, 8)               # login name is shorter\n",
    "        login = ''.join(choice(lc) for j in range(llen))\n",
    "        dlen = randrange(llen, 13)           # domain is longer\n",
    "        dom = ''.join(choice(lc) for j in range(dlen))\n",
    "        print('%s::%s@%s.%s::%d-%d-%d' % (dtstr, login, dom, choice(tlds), dtint, llen, dlen), file=f)"
   ]
  },
  {
   "cell_type": "markdown",
   "metadata": {},
   "source": [
    "Now let's play with the data we generate using more fun and useful regexes\n",
    "- `+`,`*`,`?` all are greedy operations, which means they are designed to match as much as possible, using `?` after them can stop this behaviour, which means \"don't be greedy\", that is match as few as possible"
   ]
  },
  {
   "cell_type": "code",
   "execution_count": 77,
   "metadata": {},
   "outputs": [
    {
     "name": "stdout",
     "output_type": "stream",
     "text": [
      "Thu\n",
      "3076032614-6-7\n",
      "4-6-7\n",
      "3076032614-6-7\n",
      "6\n",
      "Mon\n",
      "2468546424-5-8\n",
      "4-5-8\n",
      "2468546424-5-8\n",
      "5\n",
      "Tue\n",
      "1323747946-6-6\n",
      "6-6-6\n",
      "1323747946-6-6\n",
      "6\n",
      "Sun\n",
      "4014340941-7-11\n",
      "1-7-11\n",
      "4014340941-7-11\n",
      "7\n",
      "Wed\n",
      "1724840313-4-8\n",
      "3-4-8\n",
      "1724840313-4-8\n",
      "4\n",
      "Mon\n",
      "958973307-7-11\n",
      "7-7-11\n",
      "958973307-7-11\n",
      "7\n"
     ]
    }
   ],
   "source": [
    "with open('data', 'r') as f:\n",
    "    strict_pattern = r'^(Mon|Tue|Wed|Thu|Fir|Sat|Sun)'       # filter the days\n",
    "    lose_pattern = r'^(\\w{3})'\n",
    "    digits_filter = r'\\d+-\\d+-\\d+'                           # filter the digits at the end of eachline\n",
    "    mid_digit_filter = r'-(\\d+)-'\n",
    "    for eachline in f:\n",
    "        print(re.match(lose_pattern, eachline).group())\n",
    "        print(re.search(digits_filter, eachline).group())\n",
    "        print(re.match(r'.+(\\d+-\\d+-\\d+)', eachline).group(1))       # + * ? all are greedy operations \n",
    "        print(re.match(r'.+?(\\d+-\\d+-\\d+)', eachline).group(1))       # + * ? all are greedy operations \n",
    "        print(re.search(mid_digit_filter, eachline).group(1))"
   ]
  },
  {
   "cell_type": "markdown",
   "metadata": {},
   "source": [
    "### Processing Credit Card Number\n",
    "Verifying credit card numbers with 15 or 16 digits in the format with or without hypthens"
   ]
  },
  {
   "cell_type": "code",
   "execution_count": 165,
   "metadata": {},
   "outputs": [],
   "source": [
    "def verify_cc_num(cc_num):\n",
    "    \"\"\"\n",
    "    Verify a credit card number\n",
    "    \n",
    "    Arguments:\n",
    "    cc_num -- a string representing a 15/16-digit-long credit card num in the format with or without hypens\n",
    "    \n",
    "    Return:\n",
    "    flag -- a boolean value which is true when the credit card number is verified or vice verse\n",
    "    \"\"\"\n",
    "    \n",
    "    flag = True\n",
    "    pattern = r'''(?x)\n",
    "          ([0-9]{15,16})| # credit card number in the format without hyphens filter\n",
    "          ([0-9]{5}-[0-9]{6}-[0-9]{4})|((?:[0-9]{4}-){3}[0-9]{4}) # credit card number in the format with \n",
    "                                                                  # hyphens\n",
    "              '''\n",
    "    \n",
    "    if(re.match(pattern, cc_num) == None):\n",
    "        flag = False\n",
    "    elif(re.search('-', cc_num) == None):       # check the if it's in the format with hypthens\n",
    "        flag = validate_cc_num(cc_num)\n",
    "    else:                                                    \n",
    "        cc_num = ''.join(item for item in cc_num.split('-'))     # remove hyphens\n",
    "        flag = validate_cc_num(cc_num)\n",
    "        \n",
    "    return flag\n",
    "\n",
    "\n",
    "def validate_cc_num(cc_num):\n",
    "    \"\"\"\n",
    "    Validate a credit card number using modulus 10 algorithm\n",
    "    \n",
    "    Arguments:\n",
    "    cc_num -- a string representing the credit card number with digits only\n",
    "    \n",
    "    Returns:\n",
    "    flag -- a boolen which value is Ture when the credit card number is validated\n",
    "    \"\"\"\n",
    "    \n",
    "    flag = True\n",
    "    reversed_num = cc_num[::-1]\n",
    "    digits = list()\n",
    "    \n",
    "    # modulus 10 algorithm: start from the rightmost digit of a card number, double ervery second digit\n",
    "    # if the product is greater than 9, add the two digits of the product as the result(same as \n",
    "    # subtracting the procdut by 9), then sum up all digits, if the sum modulus 10 equal zero \n",
    "    # then the card numbers is validated else it's not\n",
    "    for i in range(1, len(cc_num), 2):\n",
    "        digits.append(int(reversed_num[i-1]))\n",
    "        temp = int(reversed_num[i])*2\n",
    "        if temp > 9:\n",
    "            digits.append(temp - 9)\n",
    "        else:\n",
    "            digits.append(temp)\n",
    "    \n",
    "    digits_sum = sum(digits)\n",
    "    if digits_sum % 10 != 0:\n",
    "        flag == False\n",
    "    \n",
    "    return flag"
   ]
  },
  {
   "cell_type": "code",
   "execution_count": 169,
   "metadata": {},
   "outputs": [
    {
     "data": {
      "text/plain": [
       "True"
      ]
     },
     "execution_count": 169,
     "metadata": {},
     "output_type": "execute_result"
    }
   ],
   "source": [
    "c = '5105105105105100'\n",
    "verify_cc_num(c)"
   ]
  },
  {
   "cell_type": "markdown",
   "metadata": {},
   "source": [
    "### Play with the Data Generated by Tasklist"
   ]
  },
  {
   "cell_type": "code",
   "execution_count": 216,
   "metadata": {},
   "outputs": [
    {
     "name": "stdout",
     "output_type": "stream",
     "text": [
      "('2067', 'Jun', 'Thu')\n",
      "('2048', 'Mar', 'Mon')\n",
      "('2011', 'Dec', 'Tue')\n",
      "('2097', 'Mar', 'Sun')\n",
      "('2024', 'Aug', 'Wed')\n",
      "('2000', 'May', 'Mon')\n",
      "('2029', 'Mar', 'Wed')\n",
      "('2043', 'Jun', 'Fri')\n",
      "('2007', 'Dec', 'Sat')\n",
      "('2062', 'Aug', 'Wed')\n",
      "('2048', 'Mar', 'Tue')\n",
      "('2011', 'Feb', 'Tue')\n",
      "('2043', 'Aug', 'Wed')\n",
      "('2075', 'Dec', 'Mon')\n",
      "{' Jun': 2, ' Mar': 4, ' Dec': 3, ' Aug': 3, ' May': 1, ' Feb': 1}\n"
     ]
    }
   ],
   "source": [
    "with open('data', 'r') as f:           # open the file data in read mode\n",
    "    day_filter = r'^\\w{3}'\n",
    "    mon_filter = r' (\\w{3})'\n",
    "    year_filter = r' (\\d+)::'\n",
    "    date_filter = r'(^\\w{3}.+\\d)::'\n",
    "    time_filter = r' (\\d+:\\d+:\\d+) '\n",
    "    email_filter = r'\\w+@\\w+.\\w+'\n",
    "    year_mon_day_filter = r'(?P<day>^\\w+) (?P<mon>\\w+) .+ (?P<year>\\d{4})::'\n",
    "    login_domain_filter = r'::(?P<login>\\w+)@(?P<domain>[\\w.]+)::'\n",
    "    day_counts = dict()\n",
    "    mon_counts = dict()\n",
    "    for eachline in f:\n",
    "#         print(re.match(date_filter, eachline).group(1)) # extract the time stamp in each line\n",
    "#         print(re.search(email_filter, eachline).group())  # extract the email address\n",
    "#         print(re.search(mon_filter, eachline).group(1))    # extract the months\n",
    "#         print(re.search(year_filter, eachline).group(1))   # extract the years\n",
    "#         print(re.search(time_filter, eachline).group(1))   # extract the time only\n",
    "#         print(re.search(login_domain_filter, eachline).group('login', 'domain'))\n",
    "#         print(re.sub(email_filter, 'jaylen_west@foxmail.com', eachline))\n",
    "        print(re.search(year_mon_day_filter, eachline).group('year', 'mon', 'day'))\n",
    "        key = re.search(mon_filter, eachline).group()\n",
    "        mon_counts[key] = mon_counts.get(key, 0) + 1\n",
    "    print(mon_counts)"
   ]
  },
  {
   "cell_type": "markdown",
   "metadata": {},
   "source": [
    "### Processing the Phone Numbers"
   ]
  },
  {
   "cell_type": "code",
   "execution_count": 230,
   "metadata": {},
   "outputs": [],
   "source": [
    "def verify_phone_num(phone_num):\n",
    "    \"\"\"\n",
    "    Verify a phone number with or without 3-digits area codes\n",
    "    \n",
    "    Arguments:\n",
    "    phone_num -- a string reprensting a phone number\n",
    "    \n",
    "    Returns:\n",
    "    flag -- a boolean variable which is True when the phone_num is verified otherwise it's False\n",
    "    \"\"\"\n",
    "    \n",
    "    flag = True\n",
    "    phone_num_filter = r'((?:\\d{3}-)|(\\(\\d{3}\\)))?\\d{3}-\\d{4}'\n",
    "    if(re.match(phone_num_filter, phone_num) == None):\n",
    "        flag = False\n",
    "    \n",
    "    return flag"
   ]
  },
  {
   "cell_type": "code",
   "execution_count": 231,
   "metadata": {},
   "outputs": [
    {
     "data": {
      "text/plain": [
       "True"
      ]
     },
     "execution_count": 231,
     "metadata": {},
     "output_type": "execute_result"
    }
   ],
   "source": [
    "verify_phone_num('(900)555-5121')"
   ]
  },
  {
   "cell_type": "markdown",
   "metadata": {},
   "source": [
    "### HTML Generation.\n",
    "This part will take a list of links (and optional short description) and generate a Web page(.html) that include all links as hypertext anchors. If a short description is provided, use that as hypertext instead of url."
   ]
  },
  {
   "cell_type": "code",
   "execution_count": 315,
   "metadata": {},
   "outputs": [],
   "source": [
    "def generate_html(links, name):\n",
    "    \"\"\"\n",
    "    Generate a Web page with hypertext anchors extracting from links, and when a short description of a \n",
    "    link is provided, use that as the hpyertext.\n",
    "    \n",
    "    Arguments:\n",
    "    links -- a list of links (with optional short description)\n",
    "    name -- a string of Web page(.html) to be stored as\n",
    "    \n",
    "    Returns:\n",
    "    flag -- a boolean of whether this process is successful\n",
    "    \"\"\"\n",
    "    \n",
    "    url_filter = r'(?P<url>^((https?://)|(www))[.\\w/]+)(::)?(?P<dsrp>(.+))?'\n",
    "    flag = False\n",
    "    \n",
    "    with open(name, 'w') as f:\n",
    "        f.write('<html>\\n')\n",
    "        for item in links:\n",
    "            matches = re.match(url_filter, item).group('url', 'dsrp')\n",
    "            if (matches[0] != None) & (matches[1] != None):\n",
    "                flag = True\n",
    "                anchor = '<a href=' + matches[0] + '>' + matches[1] + '</a><br/><hr/>'\n",
    "                f.write(anchor + '\\n')\n",
    "            if (matches[0] != None) & (matches[1] == None):\n",
    "                flag = True\n",
    "                anchor = '<a href=' + matches[0] + '>' + matches[0] + '</a><br/><hr/>'\n",
    "                f.write(anchor + '\\n')\n",
    "        f.write('</html>\\n')\n",
    "                \n",
    "    return flag"
   ]
  },
  {
   "cell_type": "code",
   "execution_count": 316,
   "metadata": {},
   "outputs": [
    {
     "name": "stdout",
     "output_type": "stream",
     "text": [
      "['https://www.baidu.com::百度\\n', 'http://xueshu.baidu.com/::百度学术\\n', 'http://www.w3school.com.cn/::W3C school\\n', 'http://www.dilidili.wang/::DiliDili 动漫\\n', 'https://www.163.com/::网易主页\\n', 'https://www.qq.com\\n', 'www.baidu.com']\n"
     ]
    },
    {
     "data": {
      "text/plain": [
       "True"
      ]
     },
     "execution_count": 316,
     "metadata": {},
     "output_type": "execute_result"
    }
   ],
   "source": [
    "links = list()\n",
    "with open('url_data.txt', 'r', encoding='UTF-8') as f:\n",
    "    for eachline in f:\n",
    "        links.append(eachline)\n",
    "\n",
    "print(links)\n",
    "generate_html(links, 'links.html')"
   ]
  },
  {
   "cell_type": "code",
   "execution_count": 330,
   "metadata": {},
   "outputs": [
    {
     "name": "stdout",
     "output_type": "stream",
     "text": [
      "dict_keys([0, 1, 2, 3, 4])\n"
     ]
    }
   ],
   "source": [
    "d = dict(zip(range(5),range(5,10)))\n",
    "print(d.keys())\n",
    "c = dict(one=5, two=6, three=7, four=8, five=9)"
   ]
  },
  {
   "cell_type": "markdown",
   "metadata": {},
   "source": [
    "### Books Tracker\n",
    "tracking book rankings of favorite books of online booksellers"
   ]
  },
  {
   "cell_type": "code",
   "execution_count": 20,
   "metadata": {},
   "outputs": [],
   "source": [
    "from bs4 import BeautifulSoup as bs\n",
    "import urllib3\n",
    "import certifi\n",
    "import lxml\n",
    "import re"
   ]
  },
  {
   "cell_type": "code",
   "execution_count": 42,
   "metadata": {},
   "outputs": [],
   "source": [
    "def get_html(url):\n",
    "    \"\"\"\n",
    "    Acquire html from url address\n",
    "    \n",
    "    Arguments:\n",
    "    url -- string\n",
    "    \n",
    "    Returns:\n",
    "    html -- binary data of html src code\n",
    "    \"\"\"\n",
    "    \n",
    "    # use User-Agent filds in http requst header to avoid being excluded from accessing websites \n",
    "    header = {\n",
    "       'User-Agent': 'Mozilla/5.0 (Windows NT 6.1; WOW64) AppleWebKit/537.36 (KHTML, like Gecko)\\\n",
    "       Chrome/58.0.3029.96 Safari/537.36'\n",
    "    }\n",
    "    http = urllib3.PoolManager(cert_reqs='CERT_REQUIRED', ca_certs=certifi.where())  # use certificate\n",
    "    resp = http.request('GET', url, headers=header)\n",
    "    html = resp.data\n",
    "    \n",
    "    return html\n",
    "\n"
   ]
  },
  {
   "cell_type": "code",
   "execution_count": 56,
   "metadata": {},
   "outputs": [],
   "source": [
    "url = 'https://www.douban.com/tag/%E5%B0%8F%E8%AF%B4/book'\n",
    "html = get_html(url)\n",
    "\n",
    "soup = bs(html, 'lxml' )\n",
    "bookdiv = soup.find(attrs={'class': 'mod book-list'})\n",
    "books = bookdiv.find_all(attrs={'class': 'title'})\n",
    "ratings = bookdiv.find_all(attrs={'class': 'rating_nums'})\n",
    "\n",
    "book_rating = zip(books, ratings)\n",
    "with open('book_list.txt', 'w', encoding='UTF-8') as f:\n",
    "    for book, rating in book_rating:\n",
    "        print('书名：{}，评分：{}'.format(book.string, rating.string), file=f)"
   ]
  },
  {
   "cell_type": "code",
   "execution_count": 55,
   "metadata": {},
   "outputs": [],
   "source": [
    "with open('douban_books.html', 'w', encoding='UTF-8') as f:\n",
    "    print(soup.prettify(), file=f)   # 按缩进形式输出,存储到 html 文件"
   ]
  },
  {
   "cell_type": "code",
   "execution_count": 51,
   "metadata": {},
   "outputs": [
    {
     "data": {
      "text/plain": [
       "[<a class=\"title\" href=\"https://book.douban.com/subject/6518605/?from=tag_all\" target=\"_blank\">三体全集</a>,\n",
       " <a class=\"title\" href=\"https://book.douban.com/subject/4913064/?from=tag_all\" target=\"_blank\">活着</a>,\n",
       " <a class=\"title\" href=\"https://book.douban.com/subject/26954760/?from=tag_all\" target=\"_blank\">月亮与六便士</a>,\n",
       " <a class=\"title\" href=\"https://book.douban.com/subject/1770782/?from=tag_all\" target=\"_blank\">追风筝的人</a>,\n",
       " <a class=\"title\" href=\"https://book.douban.com/subject/25778492/?from=tag_all\" target=\"_blank\">彷徨</a>,\n",
       " <a class=\"title\" href=\"https://book.douban.com/subject/26877597/?from=tag_all\" target=\"_blank\">一九八四（纪念版）</a>,\n",
       " <a class=\"title\" href=\"https://book.douban.com/subject/27614904/?from=tag_all\" target=\"_blank\">房思琪的初恋乐园</a>,\n",
       " <a class=\"title\" href=\"https://book.douban.com/subject/6720777/?from=tag_all\" target=\"_blank\">海明威短篇小说全集（上）</a>,\n",
       " <a class=\"title\" href=\"https://book.douban.com/subject/26879778/?from=tag_all\" target=\"_blank\">杀死一只知更鸟</a>,\n",
       " <a class=\"title\" href=\"https://book.douban.com/subject/6082808/?from=tag_all\" target=\"_blank\">百年孤独</a>,\n",
       " <a class=\"title\" href=\"https://book.douban.com/subject/25862578/?from=tag_all\" target=\"_blank\">解忧杂货店</a>,\n",
       " <a class=\"title\" href=\"https://book.douban.com/subject/3259440/?from=tag_all\" target=\"_blank\">白夜行</a>,\n",
       " <a class=\"title\" href=\"https://book.douban.com/subject/1084336/?from=tag_all\" target=\"_blank\">小王子</a>,\n",
       " <a class=\"title\" href=\"https://book.douban.com/subject/4240543/?from=tag_all\" target=\"_blank\">一九八四</a>,\n",
       " <a class=\"title\" href=\"https://book.douban.com/subject/1008145/?from=tag_all\" target=\"_blank\">围城</a>]"
      ]
     },
     "execution_count": 51,
     "metadata": {},
     "output_type": "execute_result"
    }
   ],
   "source": [
    "soup.find_all(attrs={'class':'title'})"
   ]
  }
 ],
 "metadata": {
  "kernelspec": {
   "display_name": "Python 3",
   "language": "python",
   "name": "python3"
  },
  "language_info": {
   "codemirror_mode": {
    "name": "ipython",
    "version": 3
   },
   "file_extension": ".py",
   "mimetype": "text/x-python",
   "name": "python",
   "nbconvert_exporter": "python",
   "pygments_lexer": "ipython3",
   "version": "3.6.5"
  }
 },
 "nbformat": 4,
 "nbformat_minor": 2
}
